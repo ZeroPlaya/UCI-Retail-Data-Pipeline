{
 "cells": [
  {
   "cell_type": "code",
   "execution_count": 1,
   "id": "f2a1440a",
   "metadata": {},
   "outputs": [
    {
     "ename": "ImportError",
     "evalue": "Missing optional dependency 'openpyxl'.  Use pip or conda to install openpyxl.",
     "output_type": "error",
     "traceback": [
      "\u001b[31m---------------------------------------------------------------------------\u001b[39m",
      "\u001b[31mModuleNotFoundError\u001b[39m                       Traceback (most recent call last)",
      "\u001b[36mFile \u001b[39m\u001b[32mc:\\Users\\Kurt Bustillos\\Documents\\GitHub\\UCI-Retail-Data-Pipeline\\.venv\\Lib\\site-packages\\pandas\\compat\\_optional.py:135\u001b[39m, in \u001b[36mimport_optional_dependency\u001b[39m\u001b[34m(name, extra, errors, min_version)\u001b[39m\n\u001b[32m    134\u001b[39m \u001b[38;5;28;01mtry\u001b[39;00m:\n\u001b[32m--> \u001b[39m\u001b[32m135\u001b[39m     module = \u001b[43mimportlib\u001b[49m\u001b[43m.\u001b[49m\u001b[43mimport_module\u001b[49m\u001b[43m(\u001b[49m\u001b[43mname\u001b[49m\u001b[43m)\u001b[49m\n\u001b[32m    136\u001b[39m \u001b[38;5;28;01mexcept\u001b[39;00m \u001b[38;5;167;01mImportError\u001b[39;00m:\n",
      "\u001b[36mFile \u001b[39m\u001b[32m~\\AppData\\Local\\Programs\\Python\\Python313\\Lib\\importlib\\__init__.py:88\u001b[39m, in \u001b[36mimport_module\u001b[39m\u001b[34m(name, package)\u001b[39m\n\u001b[32m     87\u001b[39m         level += \u001b[32m1\u001b[39m\n\u001b[32m---> \u001b[39m\u001b[32m88\u001b[39m \u001b[38;5;28;01mreturn\u001b[39;00m \u001b[43m_bootstrap\u001b[49m\u001b[43m.\u001b[49m\u001b[43m_gcd_import\u001b[49m\u001b[43m(\u001b[49m\u001b[43mname\u001b[49m\u001b[43m[\u001b[49m\u001b[43mlevel\u001b[49m\u001b[43m:\u001b[49m\u001b[43m]\u001b[49m\u001b[43m,\u001b[49m\u001b[43m \u001b[49m\u001b[43mpackage\u001b[49m\u001b[43m,\u001b[49m\u001b[43m \u001b[49m\u001b[43mlevel\u001b[49m\u001b[43m)\u001b[49m\n",
      "\u001b[36mFile \u001b[39m\u001b[32m<frozen importlib._bootstrap>:1387\u001b[39m, in \u001b[36m_gcd_import\u001b[39m\u001b[34m(name, package, level)\u001b[39m\n",
      "\u001b[36mFile \u001b[39m\u001b[32m<frozen importlib._bootstrap>:1360\u001b[39m, in \u001b[36m_find_and_load\u001b[39m\u001b[34m(name, import_)\u001b[39m\n",
      "\u001b[36mFile \u001b[39m\u001b[32m<frozen importlib._bootstrap>:1324\u001b[39m, in \u001b[36m_find_and_load_unlocked\u001b[39m\u001b[34m(name, import_)\u001b[39m\n",
      "\u001b[31mModuleNotFoundError\u001b[39m: No module named 'openpyxl'",
      "\nDuring handling of the above exception, another exception occurred:\n",
      "\u001b[31mImportError\u001b[39m                               Traceback (most recent call last)",
      "\u001b[36mCell\u001b[39m\u001b[36m \u001b[39m\u001b[32mIn[1]\u001b[39m\u001b[32m, line 5\u001b[39m\n\u001b[32m      1\u001b[39m \u001b[38;5;28;01mimport\u001b[39;00m\u001b[38;5;250m \u001b[39m\u001b[34;01mpandas\u001b[39;00m\u001b[38;5;250m \u001b[39m\u001b[38;5;28;01mas\u001b[39;00m\u001b[38;5;250m \u001b[39m\u001b[34;01mpd\u001b[39;00m\n\u001b[32m      2\u001b[39m \u001b[38;5;28;01mimport\u001b[39;00m\u001b[38;5;250m \u001b[39m\u001b[34;01mnumpy\u001b[39;00m\u001b[38;5;250m \u001b[39m\u001b[38;5;28;01mas\u001b[39;00m\u001b[38;5;250m \u001b[39m\u001b[34;01mnp\u001b[39;00m\n\u001b[32m----> \u001b[39m\u001b[32m5\u001b[39m df = \u001b[43mpd\u001b[49m\u001b[43m.\u001b[49m\u001b[43mread_excel\u001b[49m\u001b[43m(\u001b[49m\u001b[33;43m\"\u001b[39;49m\u001b[33;43m../data/raw/Online Retail.xlsx\u001b[39;49m\u001b[33;43m\"\u001b[39;49m\u001b[43m)\u001b[49m\n",
      "\u001b[36mFile \u001b[39m\u001b[32mc:\\Users\\Kurt Bustillos\\Documents\\GitHub\\UCI-Retail-Data-Pipeline\\.venv\\Lib\\site-packages\\pandas\\io\\excel\\_base.py:495\u001b[39m, in \u001b[36mread_excel\u001b[39m\u001b[34m(io, sheet_name, header, names, index_col, usecols, dtype, engine, converters, true_values, false_values, skiprows, nrows, na_values, keep_default_na, na_filter, verbose, parse_dates, date_parser, date_format, thousands, decimal, comment, skipfooter, storage_options, dtype_backend, engine_kwargs)\u001b[39m\n\u001b[32m    493\u001b[39m \u001b[38;5;28;01mif\u001b[39;00m \u001b[38;5;129;01mnot\u001b[39;00m \u001b[38;5;28misinstance\u001b[39m(io, ExcelFile):\n\u001b[32m    494\u001b[39m     should_close = \u001b[38;5;28;01mTrue\u001b[39;00m\n\u001b[32m--> \u001b[39m\u001b[32m495\u001b[39m     io = \u001b[43mExcelFile\u001b[49m\u001b[43m(\u001b[49m\n\u001b[32m    496\u001b[39m \u001b[43m        \u001b[49m\u001b[43mio\u001b[49m\u001b[43m,\u001b[49m\n\u001b[32m    497\u001b[39m \u001b[43m        \u001b[49m\u001b[43mstorage_options\u001b[49m\u001b[43m=\u001b[49m\u001b[43mstorage_options\u001b[49m\u001b[43m,\u001b[49m\n\u001b[32m    498\u001b[39m \u001b[43m        \u001b[49m\u001b[43mengine\u001b[49m\u001b[43m=\u001b[49m\u001b[43mengine\u001b[49m\u001b[43m,\u001b[49m\n\u001b[32m    499\u001b[39m \u001b[43m        \u001b[49m\u001b[43mengine_kwargs\u001b[49m\u001b[43m=\u001b[49m\u001b[43mengine_kwargs\u001b[49m\u001b[43m,\u001b[49m\n\u001b[32m    500\u001b[39m \u001b[43m    \u001b[49m\u001b[43m)\u001b[49m\n\u001b[32m    501\u001b[39m \u001b[38;5;28;01melif\u001b[39;00m engine \u001b[38;5;129;01mand\u001b[39;00m engine != io.engine:\n\u001b[32m    502\u001b[39m     \u001b[38;5;28;01mraise\u001b[39;00m \u001b[38;5;167;01mValueError\u001b[39;00m(\n\u001b[32m    503\u001b[39m         \u001b[33m\"\u001b[39m\u001b[33mEngine should not be specified when passing \u001b[39m\u001b[33m\"\u001b[39m\n\u001b[32m    504\u001b[39m         \u001b[33m\"\u001b[39m\u001b[33man ExcelFile - ExcelFile already has the engine set\u001b[39m\u001b[33m\"\u001b[39m\n\u001b[32m    505\u001b[39m     )\n",
      "\u001b[36mFile \u001b[39m\u001b[32mc:\\Users\\Kurt Bustillos\\Documents\\GitHub\\UCI-Retail-Data-Pipeline\\.venv\\Lib\\site-packages\\pandas\\io\\excel\\_base.py:1567\u001b[39m, in \u001b[36mExcelFile.__init__\u001b[39m\u001b[34m(self, path_or_buffer, engine, storage_options, engine_kwargs)\u001b[39m\n\u001b[32m   1564\u001b[39m \u001b[38;5;28mself\u001b[39m.engine = engine\n\u001b[32m   1565\u001b[39m \u001b[38;5;28mself\u001b[39m.storage_options = storage_options\n\u001b[32m-> \u001b[39m\u001b[32m1567\u001b[39m \u001b[38;5;28mself\u001b[39m._reader = \u001b[38;5;28;43mself\u001b[39;49m\u001b[43m.\u001b[49m\u001b[43m_engines\u001b[49m\u001b[43m[\u001b[49m\u001b[43mengine\u001b[49m\u001b[43m]\u001b[49m\u001b[43m(\u001b[49m\n\u001b[32m   1568\u001b[39m \u001b[43m    \u001b[49m\u001b[38;5;28;43mself\u001b[39;49m\u001b[43m.\u001b[49m\u001b[43m_io\u001b[49m\u001b[43m,\u001b[49m\n\u001b[32m   1569\u001b[39m \u001b[43m    \u001b[49m\u001b[43mstorage_options\u001b[49m\u001b[43m=\u001b[49m\u001b[43mstorage_options\u001b[49m\u001b[43m,\u001b[49m\n\u001b[32m   1570\u001b[39m \u001b[43m    \u001b[49m\u001b[43mengine_kwargs\u001b[49m\u001b[43m=\u001b[49m\u001b[43mengine_kwargs\u001b[49m\u001b[43m,\u001b[49m\n\u001b[32m   1571\u001b[39m \u001b[43m\u001b[49m\u001b[43m)\u001b[49m\n",
      "\u001b[36mFile \u001b[39m\u001b[32mc:\\Users\\Kurt Bustillos\\Documents\\GitHub\\UCI-Retail-Data-Pipeline\\.venv\\Lib\\site-packages\\pandas\\io\\excel\\_openpyxl.py:552\u001b[39m, in \u001b[36mOpenpyxlReader.__init__\u001b[39m\u001b[34m(self, filepath_or_buffer, storage_options, engine_kwargs)\u001b[39m\n\u001b[32m    534\u001b[39m \u001b[38;5;129m@doc\u001b[39m(storage_options=_shared_docs[\u001b[33m\"\u001b[39m\u001b[33mstorage_options\u001b[39m\u001b[33m\"\u001b[39m])\n\u001b[32m    535\u001b[39m \u001b[38;5;28;01mdef\u001b[39;00m\u001b[38;5;250m \u001b[39m\u001b[34m__init__\u001b[39m(\n\u001b[32m    536\u001b[39m     \u001b[38;5;28mself\u001b[39m,\n\u001b[32m   (...)\u001b[39m\u001b[32m    539\u001b[39m     engine_kwargs: \u001b[38;5;28mdict\u001b[39m | \u001b[38;5;28;01mNone\u001b[39;00m = \u001b[38;5;28;01mNone\u001b[39;00m,\n\u001b[32m    540\u001b[39m ) -> \u001b[38;5;28;01mNone\u001b[39;00m:\n\u001b[32m    541\u001b[39m \u001b[38;5;250m    \u001b[39m\u001b[33;03m\"\"\"\u001b[39;00m\n\u001b[32m    542\u001b[39m \u001b[33;03m    Reader using openpyxl engine.\u001b[39;00m\n\u001b[32m    543\u001b[39m \n\u001b[32m   (...)\u001b[39m\u001b[32m    550\u001b[39m \u001b[33;03m        Arbitrary keyword arguments passed to excel engine.\u001b[39;00m\n\u001b[32m    551\u001b[39m \u001b[33;03m    \"\"\"\u001b[39;00m\n\u001b[32m--> \u001b[39m\u001b[32m552\u001b[39m     \u001b[43mimport_optional_dependency\u001b[49m\u001b[43m(\u001b[49m\u001b[33;43m\"\u001b[39;49m\u001b[33;43mopenpyxl\u001b[39;49m\u001b[33;43m\"\u001b[39;49m\u001b[43m)\u001b[49m\n\u001b[32m    553\u001b[39m     \u001b[38;5;28msuper\u001b[39m().\u001b[34m__init__\u001b[39m(\n\u001b[32m    554\u001b[39m         filepath_or_buffer,\n\u001b[32m    555\u001b[39m         storage_options=storage_options,\n\u001b[32m    556\u001b[39m         engine_kwargs=engine_kwargs,\n\u001b[32m    557\u001b[39m     )\n",
      "\u001b[36mFile \u001b[39m\u001b[32mc:\\Users\\Kurt Bustillos\\Documents\\GitHub\\UCI-Retail-Data-Pipeline\\.venv\\Lib\\site-packages\\pandas\\compat\\_optional.py:138\u001b[39m, in \u001b[36mimport_optional_dependency\u001b[39m\u001b[34m(name, extra, errors, min_version)\u001b[39m\n\u001b[32m    136\u001b[39m \u001b[38;5;28;01mexcept\u001b[39;00m \u001b[38;5;167;01mImportError\u001b[39;00m:\n\u001b[32m    137\u001b[39m     \u001b[38;5;28;01mif\u001b[39;00m errors == \u001b[33m\"\u001b[39m\u001b[33mraise\u001b[39m\u001b[33m\"\u001b[39m:\n\u001b[32m--> \u001b[39m\u001b[32m138\u001b[39m         \u001b[38;5;28;01mraise\u001b[39;00m \u001b[38;5;167;01mImportError\u001b[39;00m(msg)\n\u001b[32m    139\u001b[39m     \u001b[38;5;28;01mreturn\u001b[39;00m \u001b[38;5;28;01mNone\u001b[39;00m\n\u001b[32m    141\u001b[39m \u001b[38;5;66;03m# Handle submodules: if we have submodule, grab parent module from sys.modules\u001b[39;00m\n",
      "\u001b[31mImportError\u001b[39m: Missing optional dependency 'openpyxl'.  Use pip or conda to install openpyxl."
     ]
    }
   ],
   "source": [
    "import pandas as pd\n",
    "import numpy as np\n",
    "\n",
    "\n",
    "df = pd.read_excel(\"../data/raw/Online Retail.xlsx\")"
   ]
  },
  {
   "cell_type": "markdown",
   "id": "876ab634",
   "metadata": {},
   "source": [
    "## UCI Online Retail\n",
    "\n",
    "This dataset contains transactional records from a UK-based online retailer, spanning December 2010. Below is the variables table:\n",
    "\n",
    "| Variable Name | Role     | Type         | Description                                                                 | Units     | Missing Values |\n",
    "|---------------|----------|--------------|-----------------------------------------------------------------------------|-----------|----------------|\n",
    "| `InvoiceNo`   | ID       | Categorical  | 6-digit number identifying each transaction. Prefix `'C'` indicates cancellation. | —         | No             |\n",
    "| `StockCode`   | ID       | Categorical  | 5-digit code for each distinct product.                                    | —         | No             |\n",
    "| `Description` | Feature  | Categorical  | Name or description of the product.                                        | —         | No             |\n",
    "| `Quantity`    | Feature  | Integer      | Number of items purchased per transaction.                                 | Count     | No             |\n",
    "| `InvoiceDate` | Feature  | DateTime     | Timestamp when the invoice was created.                                    | DateTime  | No             |\n",
    "| `UnitPrice`   | Feature  | Continuous   | Price per unit of the product.                                             | Sterling  | No             |\n",
    "| `CustomerID`  | Feature  | Categorical  | Unique identifier for each customer.                                       | —         | No             |\n",
    "| `Country`     | Feature  | Categorical  | Country of residence for each customer.                                    | —         | No             |"
   ]
  },
  {
   "cell_type": "markdown",
   "id": "e57ee1ad",
   "metadata": {},
   "source": [
    "## 1. Data Preprocessing\n",
    "Let's check how the data looks like."
   ]
  },
  {
   "cell_type": "code",
   "execution_count": null,
   "id": "9b8dac08",
   "metadata": {},
   "outputs": [
    {
     "data": {
      "text/html": [
       "<div>\n",
       "<style scoped>\n",
       "    .dataframe tbody tr th:only-of-type {\n",
       "        vertical-align: middle;\n",
       "    }\n",
       "\n",
       "    .dataframe tbody tr th {\n",
       "        vertical-align: top;\n",
       "    }\n",
       "\n",
       "    .dataframe thead th {\n",
       "        text-align: right;\n",
       "    }\n",
       "</style>\n",
       "<table border=\"1\" class=\"dataframe\">\n",
       "  <thead>\n",
       "    <tr style=\"text-align: right;\">\n",
       "      <th></th>\n",
       "      <th>InvoiceNo</th>\n",
       "      <th>StockCode</th>\n",
       "      <th>Description</th>\n",
       "      <th>Quantity</th>\n",
       "      <th>InvoiceDate</th>\n",
       "      <th>UnitPrice</th>\n",
       "      <th>CustomerID</th>\n",
       "      <th>Country</th>\n",
       "    </tr>\n",
       "  </thead>\n",
       "  <tbody>\n",
       "    <tr>\n",
       "      <th>0</th>\n",
       "      <td>536365</td>\n",
       "      <td>85123A</td>\n",
       "      <td>WHITE HANGING HEART T-LIGHT HOLDER</td>\n",
       "      <td>6</td>\n",
       "      <td>2010-12-01 08:26:00</td>\n",
       "      <td>2.55</td>\n",
       "      <td>17850.0</td>\n",
       "      <td>United Kingdom</td>\n",
       "    </tr>\n",
       "    <tr>\n",
       "      <th>1</th>\n",
       "      <td>536365</td>\n",
       "      <td>71053</td>\n",
       "      <td>WHITE METAL LANTERN</td>\n",
       "      <td>6</td>\n",
       "      <td>2010-12-01 08:26:00</td>\n",
       "      <td>3.39</td>\n",
       "      <td>17850.0</td>\n",
       "      <td>United Kingdom</td>\n",
       "    </tr>\n",
       "    <tr>\n",
       "      <th>2</th>\n",
       "      <td>536365</td>\n",
       "      <td>84406B</td>\n",
       "      <td>CREAM CUPID HEARTS COAT HANGER</td>\n",
       "      <td>8</td>\n",
       "      <td>2010-12-01 08:26:00</td>\n",
       "      <td>2.75</td>\n",
       "      <td>17850.0</td>\n",
       "      <td>United Kingdom</td>\n",
       "    </tr>\n",
       "    <tr>\n",
       "      <th>3</th>\n",
       "      <td>536365</td>\n",
       "      <td>84029G</td>\n",
       "      <td>KNITTED UNION FLAG HOT WATER BOTTLE</td>\n",
       "      <td>6</td>\n",
       "      <td>2010-12-01 08:26:00</td>\n",
       "      <td>3.39</td>\n",
       "      <td>17850.0</td>\n",
       "      <td>United Kingdom</td>\n",
       "    </tr>\n",
       "    <tr>\n",
       "      <th>4</th>\n",
       "      <td>536365</td>\n",
       "      <td>84029E</td>\n",
       "      <td>RED WOOLLY HOTTIE WHITE HEART.</td>\n",
       "      <td>6</td>\n",
       "      <td>2010-12-01 08:26:00</td>\n",
       "      <td>3.39</td>\n",
       "      <td>17850.0</td>\n",
       "      <td>United Kingdom</td>\n",
       "    </tr>\n",
       "  </tbody>\n",
       "</table>\n",
       "</div>"
      ],
      "text/plain": [
       "  InvoiceNo StockCode                          Description  Quantity  \\\n",
       "0    536365    85123A   WHITE HANGING HEART T-LIGHT HOLDER         6   \n",
       "1    536365     71053                  WHITE METAL LANTERN         6   \n",
       "2    536365    84406B       CREAM CUPID HEARTS COAT HANGER         8   \n",
       "3    536365    84029G  KNITTED UNION FLAG HOT WATER BOTTLE         6   \n",
       "4    536365    84029E       RED WOOLLY HOTTIE WHITE HEART.         6   \n",
       "\n",
       "          InvoiceDate  UnitPrice  CustomerID         Country  \n",
       "0 2010-12-01 08:26:00       2.55     17850.0  United Kingdom  \n",
       "1 2010-12-01 08:26:00       3.39     17850.0  United Kingdom  \n",
       "2 2010-12-01 08:26:00       2.75     17850.0  United Kingdom  \n",
       "3 2010-12-01 08:26:00       3.39     17850.0  United Kingdom  \n",
       "4 2010-12-01 08:26:00       3.39     17850.0  United Kingdom  "
      ]
     },
     "execution_count": 2,
     "metadata": {},
     "output_type": "execute_result"
    }
   ],
   "source": [
    "df.head()"
   ]
  },
  {
   "cell_type": "markdown",
   "id": "faec5e00",
   "metadata": {},
   "source": [
    "Based on the non-null count shown below, we can see that the `Description` and `CustomerID` columns have null values."
   ]
  },
  {
   "cell_type": "code",
   "execution_count": null,
   "id": "bdb3869b",
   "metadata": {},
   "outputs": [
    {
     "name": "stdout",
     "output_type": "stream",
     "text": [
      "<class 'pandas.core.frame.DataFrame'>\n",
      "RangeIndex: 541909 entries, 0 to 541908\n",
      "Data columns (total 8 columns):\n",
      " #   Column       Non-Null Count   Dtype         \n",
      "---  ------       --------------   -----         \n",
      " 0   InvoiceNo    541909 non-null  object        \n",
      " 1   StockCode    541909 non-null  object        \n",
      " 2   Description  540455 non-null  object        \n",
      " 3   Quantity     541909 non-null  int64         \n",
      " 4   InvoiceDate  541909 non-null  datetime64[ns]\n",
      " 5   UnitPrice    541909 non-null  float64       \n",
      " 6   CustomerID   406829 non-null  float64       \n",
      " 7   Country      541909 non-null  object        \n",
      "dtypes: datetime64[ns](1), float64(2), int64(1), object(4)\n",
      "memory usage: 33.1+ MB\n"
     ]
    }
   ],
   "source": [
    "df.info()"
   ]
  },
  {
   "cell_type": "markdown",
   "id": "1e9a7971",
   "metadata": {},
   "source": [
    "The output below shows the summary of the quantitative variables, we can see that there are some negative values within the columns."
   ]
  },
  {
   "cell_type": "code",
   "execution_count": null,
   "id": "670dae9f",
   "metadata": {},
   "outputs": [
    {
     "data": {
      "text/html": [
       "<div>\n",
       "<style scoped>\n",
       "    .dataframe tbody tr th:only-of-type {\n",
       "        vertical-align: middle;\n",
       "    }\n",
       "\n",
       "    .dataframe tbody tr th {\n",
       "        vertical-align: top;\n",
       "    }\n",
       "\n",
       "    .dataframe thead th {\n",
       "        text-align: right;\n",
       "    }\n",
       "</style>\n",
       "<table border=\"1\" class=\"dataframe\">\n",
       "  <thead>\n",
       "    <tr style=\"text-align: right;\">\n",
       "      <th></th>\n",
       "      <th>Quantity</th>\n",
       "      <th>InvoiceDate</th>\n",
       "      <th>UnitPrice</th>\n",
       "      <th>CustomerID</th>\n",
       "    </tr>\n",
       "  </thead>\n",
       "  <tbody>\n",
       "    <tr>\n",
       "      <th>count</th>\n",
       "      <td>541909.000000</td>\n",
       "      <td>541909</td>\n",
       "      <td>541909.000000</td>\n",
       "      <td>406829.000000</td>\n",
       "    </tr>\n",
       "    <tr>\n",
       "      <th>mean</th>\n",
       "      <td>9.552250</td>\n",
       "      <td>2011-07-04 13:34:57.156386048</td>\n",
       "      <td>4.611114</td>\n",
       "      <td>15287.690570</td>\n",
       "    </tr>\n",
       "    <tr>\n",
       "      <th>min</th>\n",
       "      <td>-80995.000000</td>\n",
       "      <td>2010-12-01 08:26:00</td>\n",
       "      <td>-11062.060000</td>\n",
       "      <td>12346.000000</td>\n",
       "    </tr>\n",
       "    <tr>\n",
       "      <th>25%</th>\n",
       "      <td>1.000000</td>\n",
       "      <td>2011-03-28 11:34:00</td>\n",
       "      <td>1.250000</td>\n",
       "      <td>13953.000000</td>\n",
       "    </tr>\n",
       "    <tr>\n",
       "      <th>50%</th>\n",
       "      <td>3.000000</td>\n",
       "      <td>2011-07-19 17:17:00</td>\n",
       "      <td>2.080000</td>\n",
       "      <td>15152.000000</td>\n",
       "    </tr>\n",
       "    <tr>\n",
       "      <th>75%</th>\n",
       "      <td>10.000000</td>\n",
       "      <td>2011-10-19 11:27:00</td>\n",
       "      <td>4.130000</td>\n",
       "      <td>16791.000000</td>\n",
       "    </tr>\n",
       "    <tr>\n",
       "      <th>max</th>\n",
       "      <td>80995.000000</td>\n",
       "      <td>2011-12-09 12:50:00</td>\n",
       "      <td>38970.000000</td>\n",
       "      <td>18287.000000</td>\n",
       "    </tr>\n",
       "    <tr>\n",
       "      <th>std</th>\n",
       "      <td>218.081158</td>\n",
       "      <td>NaN</td>\n",
       "      <td>96.759853</td>\n",
       "      <td>1713.600303</td>\n",
       "    </tr>\n",
       "  </tbody>\n",
       "</table>\n",
       "</div>"
      ],
      "text/plain": [
       "            Quantity                    InvoiceDate      UnitPrice  \\\n",
       "count  541909.000000                         541909  541909.000000   \n",
       "mean        9.552250  2011-07-04 13:34:57.156386048       4.611114   \n",
       "min    -80995.000000            2010-12-01 08:26:00  -11062.060000   \n",
       "25%         1.000000            2011-03-28 11:34:00       1.250000   \n",
       "50%         3.000000            2011-07-19 17:17:00       2.080000   \n",
       "75%        10.000000            2011-10-19 11:27:00       4.130000   \n",
       "max     80995.000000            2011-12-09 12:50:00   38970.000000   \n",
       "std       218.081158                            NaN      96.759853   \n",
       "\n",
       "          CustomerID  \n",
       "count  406829.000000  \n",
       "mean    15287.690570  \n",
       "min     12346.000000  \n",
       "25%     13953.000000  \n",
       "50%     15152.000000  \n",
       "75%     16791.000000  \n",
       "max     18287.000000  \n",
       "std      1713.600303  "
      ]
     },
     "execution_count": 4,
     "metadata": {},
     "output_type": "execute_result"
    }
   ],
   "source": [
    "df.describe()"
   ]
  },
  {
   "cell_type": "markdown",
   "id": "9f11381e",
   "metadata": {},
   "source": [
    "Let's also check for duplicate records within the dataset."
   ]
  },
  {
   "cell_type": "code",
   "execution_count": null,
   "id": "a41067c2",
   "metadata": {},
   "outputs": [
    {
     "name": "stdout",
     "output_type": "stream",
     "text": [
      "Number of duplicate rows: 5268\n"
     ]
    }
   ],
   "source": [
    "print(\"Number of duplicate rows:\", len(df[df.duplicated()]))"
   ]
  },
  {
   "cell_type": "markdown",
   "id": "9d4c41b2",
   "metadata": {},
   "source": [
    "Let us drop the duplicated rows."
   ]
  },
  {
   "cell_type": "code",
   "execution_count": null,
   "id": "890ff8bf",
   "metadata": {},
   "outputs": [],
   "source": [
    "df.drop_duplicates(inplace=True)"
   ]
  },
  {
   "cell_type": "markdown",
   "id": "b2928f97",
   "metadata": {},
   "source": [
    "To address missing `Description` values, we will try to impute missing values through records with `StockCode` having a `Description`.\n",
    "After this, the remaining missing values are given a placeholder."
   ]
  },
  {
   "cell_type": "code",
   "execution_count": null,
   "id": "7d8803cf",
   "metadata": {},
   "outputs": [
    {
     "name": "stdout",
     "output_type": "stream",
     "text": [
      "Number of missing 'Description' values after imputation: 0\n"
     ]
    }
   ],
   "source": [
    "# Obtain records where 'Description' is not null\n",
    "mapping = df[df['Description'].notna()]\n",
    "\n",
    "# Keep only one row per 'StockCode'\n",
    "mapping = mapping.drop_duplicates(\"StockCode\")\n",
    "\n",
    "# Create a mapping dictionary {StockCode: Description}\n",
    "mapping_dict = mapping.set_index('StockCode')['Description'].to_dict()\n",
    "\n",
    "df['Description'] = df.apply(\n",
    "    lambda row: mapping_dict.get(row['StockCode'], row['Description']), axis=1\n",
    ")\n",
    "\n",
    "# Fill missing values  with a placeholder\n",
    "df['Description'] = df['Description'].fillna('Unknown Item')\n",
    "\n",
    "print(\"Number of missing 'Description' values after imputation:\", df['Description'].isna().sum())"
   ]
  },
  {
   "cell_type": "markdown",
   "id": "326b2702",
   "metadata": {},
   "source": [
    "Let us also explore the StockCodes not relevant for our analysis. Relevant StockCodes are those having 5 digits + possibly trailing letters."
   ]
  },
  {
   "cell_type": "code",
   "execution_count": null,
   "id": "7835b240",
   "metadata": {},
   "outputs": [
    {
     "name": "stdout",
     "output_type": "stream",
     "text": [
      "['POST' 'D' 'C2' 'DOT' 'M' 'BANK CHARGES' 'S' 'AMAZONFEE' 'DCGS0076'\n",
      " 'DCGS0003' 'gift_0001_40' 'DCGS0070' 'm' 'gift_0001_50' 'gift_0001_30'\n",
      " 'gift_0001_20' 'DCGS0055' 'DCGS0072' 'DCGS0074' 'DCGS0069' 'DCGS0057'\n",
      " 'DCGSSBOY' 'DCGSSGIRL' 'gift_0001_10' 'PADS' 'DCGS0004' 'DCGS0073'\n",
      " 'DCGS0071' 'DCGS0068' 'DCGS0067' 'DCGS0066P' 'B' 'CRUK']\n"
     ]
    }
   ],
   "source": [
    "# Convert StockCode to string\n",
    "df['StockCode'] = df['StockCode'].astype(str)\n",
    "\n",
    "# Define regex pattern for valid stockcodes\n",
    "pattern = r'^\\d{5}[A-Za-z]*$'\n",
    "\n",
    "# Flag rows where StockCode does NOT match the valid pattern\n",
    "df['IsMetadata'] = ~df['StockCode'].str.match(pattern)\n",
    "\n",
    "# Print unique invalid StockCodes\n",
    "invalid_stockcodes = df.loc[df['IsMetadata'], 'StockCode'].unique()\n",
    "print(invalid_stockcodes)\n"
   ]
  },
  {
   "cell_type": "markdown",
   "id": "11df5d3b",
   "metadata": {},
   "source": [
    "Let us also flag canceled transactions (invoices starting with 'C')."
   ]
  },
  {
   "cell_type": "code",
   "execution_count": null,
   "id": "33457585",
   "metadata": {},
   "outputs": [],
   "source": [
    "# Create IsCanceled flag for invoices starting with 'C'\n",
    "df['IsCanceled'] = df['InvoiceNo'].astype(str).str.startswith('C')"
   ]
  },
  {
   "cell_type": "markdown",
   "id": "33891de7",
   "metadata": {},
   "source": [
    "Next, we will classify rows as 'MetaData', 'Canceled', or 'Sale'."
   ]
  },
  {
   "cell_type": "code",
   "execution_count": null,
   "id": "64094278",
   "metadata": {},
   "outputs": [],
   "source": [
    "def classify_transaction(row):\n",
    "    if row['IsMetadata']:\n",
    "        return 'Metadata'\n",
    "    elif row['IsCanceled']:\n",
    "        return 'Canceled'\n",
    "    elif row['Quantity'] < 0:\n",
    "        return 'Negative Qty'\n",
    "    else:\n",
    "        return 'Sale'\n",
    "\n",
    "df['TransactionType'] = df.apply(classify_transaction, axis=1)"
   ]
  },
  {
   "cell_type": "markdown",
   "id": "1f05bcaf",
   "metadata": {},
   "source": [
    "Let us now display the updated DataFrame. We can see that transactions are now marked for MetaData, cancellations, and its type."
   ]
  },
  {
   "cell_type": "code",
   "execution_count": null,
   "id": "c7c808cb",
   "metadata": {},
   "outputs": [
    {
     "data": {
      "text/html": [
       "<div>\n",
       "<style scoped>\n",
       "    .dataframe tbody tr th:only-of-type {\n",
       "        vertical-align: middle;\n",
       "    }\n",
       "\n",
       "    .dataframe tbody tr th {\n",
       "        vertical-align: top;\n",
       "    }\n",
       "\n",
       "    .dataframe thead th {\n",
       "        text-align: right;\n",
       "    }\n",
       "</style>\n",
       "<table border=\"1\" class=\"dataframe\">\n",
       "  <thead>\n",
       "    <tr style=\"text-align: right;\">\n",
       "      <th></th>\n",
       "      <th>InvoiceNo</th>\n",
       "      <th>StockCode</th>\n",
       "      <th>Description</th>\n",
       "      <th>Quantity</th>\n",
       "      <th>InvoiceDate</th>\n",
       "      <th>UnitPrice</th>\n",
       "      <th>CustomerID</th>\n",
       "      <th>Country</th>\n",
       "      <th>IsMetadata</th>\n",
       "      <th>IsCanceled</th>\n",
       "      <th>TransactionType</th>\n",
       "    </tr>\n",
       "  </thead>\n",
       "  <tbody>\n",
       "    <tr>\n",
       "      <th>0</th>\n",
       "      <td>536365</td>\n",
       "      <td>85123A</td>\n",
       "      <td>WHITE HANGING HEART T-LIGHT HOLDER</td>\n",
       "      <td>6</td>\n",
       "      <td>2010-12-01 08:26:00</td>\n",
       "      <td>2.55</td>\n",
       "      <td>17850.0</td>\n",
       "      <td>United Kingdom</td>\n",
       "      <td>False</td>\n",
       "      <td>False</td>\n",
       "      <td>Sale</td>\n",
       "    </tr>\n",
       "    <tr>\n",
       "      <th>1</th>\n",
       "      <td>536365</td>\n",
       "      <td>71053</td>\n",
       "      <td>WHITE METAL LANTERN</td>\n",
       "      <td>6</td>\n",
       "      <td>2010-12-01 08:26:00</td>\n",
       "      <td>3.39</td>\n",
       "      <td>17850.0</td>\n",
       "      <td>United Kingdom</td>\n",
       "      <td>False</td>\n",
       "      <td>False</td>\n",
       "      <td>Sale</td>\n",
       "    </tr>\n",
       "    <tr>\n",
       "      <th>2</th>\n",
       "      <td>536365</td>\n",
       "      <td>84406B</td>\n",
       "      <td>CREAM CUPID HEARTS COAT HANGER</td>\n",
       "      <td>8</td>\n",
       "      <td>2010-12-01 08:26:00</td>\n",
       "      <td>2.75</td>\n",
       "      <td>17850.0</td>\n",
       "      <td>United Kingdom</td>\n",
       "      <td>False</td>\n",
       "      <td>False</td>\n",
       "      <td>Sale</td>\n",
       "    </tr>\n",
       "    <tr>\n",
       "      <th>3</th>\n",
       "      <td>536365</td>\n",
       "      <td>84029G</td>\n",
       "      <td>KNITTED UNION FLAG HOT WATER BOTTLE</td>\n",
       "      <td>6</td>\n",
       "      <td>2010-12-01 08:26:00</td>\n",
       "      <td>3.39</td>\n",
       "      <td>17850.0</td>\n",
       "      <td>United Kingdom</td>\n",
       "      <td>False</td>\n",
       "      <td>False</td>\n",
       "      <td>Sale</td>\n",
       "    </tr>\n",
       "    <tr>\n",
       "      <th>4</th>\n",
       "      <td>536365</td>\n",
       "      <td>84029E</td>\n",
       "      <td>RED WOOLLY HOTTIE WHITE HEART.</td>\n",
       "      <td>6</td>\n",
       "      <td>2010-12-01 08:26:00</td>\n",
       "      <td>3.39</td>\n",
       "      <td>17850.0</td>\n",
       "      <td>United Kingdom</td>\n",
       "      <td>False</td>\n",
       "      <td>False</td>\n",
       "      <td>Sale</td>\n",
       "    </tr>\n",
       "  </tbody>\n",
       "</table>\n",
       "</div>"
      ],
      "text/plain": [
       "  InvoiceNo StockCode                          Description  Quantity  \\\n",
       "0    536365    85123A   WHITE HANGING HEART T-LIGHT HOLDER         6   \n",
       "1    536365     71053                  WHITE METAL LANTERN         6   \n",
       "2    536365    84406B       CREAM CUPID HEARTS COAT HANGER         8   \n",
       "3    536365    84029G  KNITTED UNION FLAG HOT WATER BOTTLE         6   \n",
       "4    536365    84029E       RED WOOLLY HOTTIE WHITE HEART.         6   \n",
       "\n",
       "          InvoiceDate  UnitPrice  CustomerID         Country  IsMetadata  \\\n",
       "0 2010-12-01 08:26:00       2.55     17850.0  United Kingdom       False   \n",
       "1 2010-12-01 08:26:00       3.39     17850.0  United Kingdom       False   \n",
       "2 2010-12-01 08:26:00       2.75     17850.0  United Kingdom       False   \n",
       "3 2010-12-01 08:26:00       3.39     17850.0  United Kingdom       False   \n",
       "4 2010-12-01 08:26:00       3.39     17850.0  United Kingdom       False   \n",
       "\n",
       "   IsCanceled TransactionType  \n",
       "0       False            Sale  \n",
       "1       False            Sale  \n",
       "2       False            Sale  \n",
       "3       False            Sale  \n",
       "4       False            Sale  "
      ]
     },
     "execution_count": 11,
     "metadata": {},
     "output_type": "execute_result"
    }
   ],
   "source": [
    "df.head()"
   ]
  },
  {
   "cell_type": "markdown",
   "id": "18b7cdce",
   "metadata": {},
   "source": [
    "Let us add a unique SaleID column to serve as the primary key."
   ]
  },
  {
   "cell_type": "code",
   "execution_count": null,
   "id": "d6da2181",
   "metadata": {},
   "outputs": [],
   "source": [
    "# Add a surrogate key: SaleID (starts from 1)\n",
    "df['SaleID'] = range(1, len(df) + 1)"
   ]
  },
  {
   "cell_type": "markdown",
   "id": "385df400",
   "metadata": {},
   "source": [
    "Let us also add a TotalPrice column via UnitPrice * Quantity."
   ]
  },
  {
   "cell_type": "code",
   "execution_count": null,
   "id": "aea6d14b",
   "metadata": {},
   "outputs": [],
   "source": [
    "df['TotalPrice'] = df['UnitPrice'] * df['Quantity']"
   ]
  },
  {
   "cell_type": "markdown",
   "id": "c8604733",
   "metadata": {},
   "source": [
    "Finally, let us split the InvoiceDate into 'Date' and 'Timestamp' columns."
   ]
  },
  {
   "cell_type": "code",
   "execution_count": null,
   "id": "c887bf63",
   "metadata": {},
   "outputs": [
    {
     "data": {
      "text/html": [
       "<div>\n",
       "<style scoped>\n",
       "    .dataframe tbody tr th:only-of-type {\n",
       "        vertical-align: middle;\n",
       "    }\n",
       "\n",
       "    .dataframe tbody tr th {\n",
       "        vertical-align: top;\n",
       "    }\n",
       "\n",
       "    .dataframe thead th {\n",
       "        text-align: right;\n",
       "    }\n",
       "</style>\n",
       "<table border=\"1\" class=\"dataframe\">\n",
       "  <thead>\n",
       "    <tr style=\"text-align: right;\">\n",
       "      <th></th>\n",
       "      <th>SaleID</th>\n",
       "      <th>InvoiceNo</th>\n",
       "      <th>StockCode</th>\n",
       "      <th>Description</th>\n",
       "      <th>Quantity</th>\n",
       "      <th>Date</th>\n",
       "      <th>Timestamp</th>\n",
       "      <th>InvoiceDate</th>\n",
       "      <th>UnitPrice</th>\n",
       "      <th>TotalPrice</th>\n",
       "      <th>CustomerID</th>\n",
       "      <th>Country</th>\n",
       "      <th>IsMetadata</th>\n",
       "      <th>IsCanceled</th>\n",
       "      <th>TransactionType</th>\n",
       "    </tr>\n",
       "  </thead>\n",
       "  <tbody>\n",
       "    <tr>\n",
       "      <th>0</th>\n",
       "      <td>1</td>\n",
       "      <td>536365</td>\n",
       "      <td>85123A</td>\n",
       "      <td>WHITE HANGING HEART T-LIGHT HOLDER</td>\n",
       "      <td>6</td>\n",
       "      <td>2010-12-01</td>\n",
       "      <td>08:26:00</td>\n",
       "      <td>2010-12-01 08:26:00</td>\n",
       "      <td>2.55</td>\n",
       "      <td>15.30</td>\n",
       "      <td>17850.0</td>\n",
       "      <td>United Kingdom</td>\n",
       "      <td>False</td>\n",
       "      <td>False</td>\n",
       "      <td>Sale</td>\n",
       "    </tr>\n",
       "    <tr>\n",
       "      <th>1</th>\n",
       "      <td>2</td>\n",
       "      <td>536365</td>\n",
       "      <td>71053</td>\n",
       "      <td>WHITE METAL LANTERN</td>\n",
       "      <td>6</td>\n",
       "      <td>2010-12-01</td>\n",
       "      <td>08:26:00</td>\n",
       "      <td>2010-12-01 08:26:00</td>\n",
       "      <td>3.39</td>\n",
       "      <td>20.34</td>\n",
       "      <td>17850.0</td>\n",
       "      <td>United Kingdom</td>\n",
       "      <td>False</td>\n",
       "      <td>False</td>\n",
       "      <td>Sale</td>\n",
       "    </tr>\n",
       "    <tr>\n",
       "      <th>2</th>\n",
       "      <td>3</td>\n",
       "      <td>536365</td>\n",
       "      <td>84406B</td>\n",
       "      <td>CREAM CUPID HEARTS COAT HANGER</td>\n",
       "      <td>8</td>\n",
       "      <td>2010-12-01</td>\n",
       "      <td>08:26:00</td>\n",
       "      <td>2010-12-01 08:26:00</td>\n",
       "      <td>2.75</td>\n",
       "      <td>22.00</td>\n",
       "      <td>17850.0</td>\n",
       "      <td>United Kingdom</td>\n",
       "      <td>False</td>\n",
       "      <td>False</td>\n",
       "      <td>Sale</td>\n",
       "    </tr>\n",
       "    <tr>\n",
       "      <th>3</th>\n",
       "      <td>4</td>\n",
       "      <td>536365</td>\n",
       "      <td>84029G</td>\n",
       "      <td>KNITTED UNION FLAG HOT WATER BOTTLE</td>\n",
       "      <td>6</td>\n",
       "      <td>2010-12-01</td>\n",
       "      <td>08:26:00</td>\n",
       "      <td>2010-12-01 08:26:00</td>\n",
       "      <td>3.39</td>\n",
       "      <td>20.34</td>\n",
       "      <td>17850.0</td>\n",
       "      <td>United Kingdom</td>\n",
       "      <td>False</td>\n",
       "      <td>False</td>\n",
       "      <td>Sale</td>\n",
       "    </tr>\n",
       "    <tr>\n",
       "      <th>4</th>\n",
       "      <td>5</td>\n",
       "      <td>536365</td>\n",
       "      <td>84029E</td>\n",
       "      <td>RED WOOLLY HOTTIE WHITE HEART.</td>\n",
       "      <td>6</td>\n",
       "      <td>2010-12-01</td>\n",
       "      <td>08:26:00</td>\n",
       "      <td>2010-12-01 08:26:00</td>\n",
       "      <td>3.39</td>\n",
       "      <td>20.34</td>\n",
       "      <td>17850.0</td>\n",
       "      <td>United Kingdom</td>\n",
       "      <td>False</td>\n",
       "      <td>False</td>\n",
       "      <td>Sale</td>\n",
       "    </tr>\n",
       "  </tbody>\n",
       "</table>\n",
       "</div>"
      ],
      "text/plain": [
       "   SaleID InvoiceNo StockCode                          Description  Quantity  \\\n",
       "0       1    536365    85123A   WHITE HANGING HEART T-LIGHT HOLDER         6   \n",
       "1       2    536365     71053                  WHITE METAL LANTERN         6   \n",
       "2       3    536365    84406B       CREAM CUPID HEARTS COAT HANGER         8   \n",
       "3       4    536365    84029G  KNITTED UNION FLAG HOT WATER BOTTLE         6   \n",
       "4       5    536365    84029E       RED WOOLLY HOTTIE WHITE HEART.         6   \n",
       "\n",
       "         Date Timestamp         InvoiceDate  UnitPrice  TotalPrice  \\\n",
       "0  2010-12-01  08:26:00 2010-12-01 08:26:00       2.55       15.30   \n",
       "1  2010-12-01  08:26:00 2010-12-01 08:26:00       3.39       20.34   \n",
       "2  2010-12-01  08:26:00 2010-12-01 08:26:00       2.75       22.00   \n",
       "3  2010-12-01  08:26:00 2010-12-01 08:26:00       3.39       20.34   \n",
       "4  2010-12-01  08:26:00 2010-12-01 08:26:00       3.39       20.34   \n",
       "\n",
       "   CustomerID         Country  IsMetadata  IsCanceled TransactionType  \n",
       "0     17850.0  United Kingdom       False       False            Sale  \n",
       "1     17850.0  United Kingdom       False       False            Sale  \n",
       "2     17850.0  United Kingdom       False       False            Sale  \n",
       "3     17850.0  United Kingdom       False       False            Sale  \n",
       "4     17850.0  United Kingdom       False       False            Sale  "
      ]
     },
     "execution_count": 14,
     "metadata": {},
     "output_type": "execute_result"
    }
   ],
   "source": [
    "df['Date'] = df['InvoiceDate'].dt.date\n",
    "df['Timestamp'] = df['InvoiceDate'].dt.time\n",
    "\n",
    "\n",
    "order = [\n",
    "    'SaleID', 'InvoiceNo', 'StockCode', 'Description', 'Quantity', \n",
    "    'Date', 'Timestamp', 'InvoiceDate', 'UnitPrice', 'TotalPrice', 'CustomerID', \n",
    "    'Country', 'IsMetadata', 'IsCanceled', 'TransactionType'\n",
    "]\n",
    "\n",
    "df = df[order]\n",
    "df.head()"
   ]
  },
  {
   "cell_type": "markdown",
   "id": "b0e1ae17",
   "metadata": {},
   "source": [
    "## 2. Data Modeling\n",
    "Given the flat DataFrame, we will model a star schema with a fact table and its dimension tables.\n",
    "\n",
    "![Entity Relationship Diagram](../documentation/ERD.png)\n"
   ]
  },
  {
   "cell_type": "markdown",
   "id": "10806476",
   "metadata": {},
   "source": [
    "First, let us create the dim_date table. We will create a DateID to serve as the key connecting both fact_sales and dim_date tables."
   ]
  },
  {
   "cell_type": "code",
   "execution_count": null,
   "id": "8eabead2",
   "metadata": {},
   "outputs": [
    {
     "data": {
      "text/html": [
       "<div>\n",
       "<style scoped>\n",
       "    .dataframe tbody tr th:only-of-type {\n",
       "        vertical-align: middle;\n",
       "    }\n",
       "\n",
       "    .dataframe tbody tr th {\n",
       "        vertical-align: top;\n",
       "    }\n",
       "\n",
       "    .dataframe thead th {\n",
       "        text-align: right;\n",
       "    }\n",
       "</style>\n",
       "<table border=\"1\" class=\"dataframe\">\n",
       "  <thead>\n",
       "    <tr style=\"text-align: right;\">\n",
       "      <th></th>\n",
       "      <th>DateID</th>\n",
       "    </tr>\n",
       "  </thead>\n",
       "  <tbody>\n",
       "    <tr>\n",
       "      <th>0</th>\n",
       "      <td>20101201</td>\n",
       "    </tr>\n",
       "    <tr>\n",
       "      <th>1</th>\n",
       "      <td>20101202</td>\n",
       "    </tr>\n",
       "    <tr>\n",
       "      <th>2</th>\n",
       "      <td>20101203</td>\n",
       "    </tr>\n",
       "    <tr>\n",
       "      <th>3</th>\n",
       "      <td>20101205</td>\n",
       "    </tr>\n",
       "    <tr>\n",
       "      <th>4</th>\n",
       "      <td>20101206</td>\n",
       "    </tr>\n",
       "  </tbody>\n",
       "</table>\n",
       "</div>"
      ],
      "text/plain": [
       "     DateID\n",
       "0  20101201\n",
       "1  20101202\n",
       "2  20101203\n",
       "3  20101205\n",
       "4  20101206"
      ]
     },
     "execution_count": 15,
     "metadata": {},
     "output_type": "execute_result"
    }
   ],
   "source": [
    "dim_date = pd.DataFrame()\n",
    "dim_date['DateID'] = df['Date'].apply(lambda x: int(x.strftime('%Y%m%d'))).drop_duplicates().reset_index(drop=True)\n",
    "dim_date = dim_date.sort_values('DateID')\n",
    "\n",
    "dim_date.head()"
   ]
  },
  {
   "cell_type": "markdown",
   "id": "c6354aa2",
   "metadata": {},
   "source": [
    "Next, we will extract each date part to separate columns."
   ]
  },
  {
   "cell_type": "code",
   "execution_count": 16,
   "id": "5f9a013d",
   "metadata": {},
   "outputs": [
    {
     "data": {
      "text/html": [
       "<div>\n",
       "<style scoped>\n",
       "    .dataframe tbody tr th:only-of-type {\n",
       "        vertical-align: middle;\n",
       "    }\n",
       "\n",
       "    .dataframe tbody tr th {\n",
       "        vertical-align: top;\n",
       "    }\n",
       "\n",
       "    .dataframe thead th {\n",
       "        text-align: right;\n",
       "    }\n",
       "</style>\n",
       "<table border=\"1\" class=\"dataframe\">\n",
       "  <thead>\n",
       "    <tr style=\"text-align: right;\">\n",
       "      <th></th>\n",
       "      <th>DateID</th>\n",
       "      <th>Year</th>\n",
       "      <th>Month</th>\n",
       "      <th>Day</th>\n",
       "      <th>Weekday</th>\n",
       "    </tr>\n",
       "  </thead>\n",
       "  <tbody>\n",
       "    <tr>\n",
       "      <th>0</th>\n",
       "      <td>20101201</td>\n",
       "      <td>2010</td>\n",
       "      <td>12</td>\n",
       "      <td>1</td>\n",
       "      <td>Wednesday</td>\n",
       "    </tr>\n",
       "    <tr>\n",
       "      <th>1</th>\n",
       "      <td>20101202</td>\n",
       "      <td>2010</td>\n",
       "      <td>12</td>\n",
       "      <td>1</td>\n",
       "      <td>Wednesday</td>\n",
       "    </tr>\n",
       "    <tr>\n",
       "      <th>2</th>\n",
       "      <td>20101203</td>\n",
       "      <td>2010</td>\n",
       "      <td>12</td>\n",
       "      <td>1</td>\n",
       "      <td>Wednesday</td>\n",
       "    </tr>\n",
       "    <tr>\n",
       "      <th>3</th>\n",
       "      <td>20101205</td>\n",
       "      <td>2010</td>\n",
       "      <td>12</td>\n",
       "      <td>1</td>\n",
       "      <td>Wednesday</td>\n",
       "    </tr>\n",
       "    <tr>\n",
       "      <th>4</th>\n",
       "      <td>20101206</td>\n",
       "      <td>2010</td>\n",
       "      <td>12</td>\n",
       "      <td>1</td>\n",
       "      <td>Wednesday</td>\n",
       "    </tr>\n",
       "  </tbody>\n",
       "</table>\n",
       "</div>"
      ],
      "text/plain": [
       "     DateID  Year  Month  Day    Weekday\n",
       "0  20101201  2010     12    1  Wednesday\n",
       "1  20101202  2010     12    1  Wednesday\n",
       "2  20101203  2010     12    1  Wednesday\n",
       "3  20101205  2010     12    1  Wednesday\n",
       "4  20101206  2010     12    1  Wednesday"
      ]
     },
     "execution_count": 16,
     "metadata": {},
     "output_type": "execute_result"
    }
   ],
   "source": [
    "dim_date['Year'] = pd.to_datetime(df['Date']).dt.year\n",
    "dim_date['Month'] = pd.to_datetime(df['Date']).dt.month\n",
    "dim_date['Day'] = pd.to_datetime(df['Date']).dt.day\n",
    "dim_date['Weekday'] = pd.to_datetime(df['Date']).dt.day_name()\n",
    "\n",
    "date_order = [\n",
    "    'DateID', 'Year', 'Month', 'Day', 'Weekday'\n",
    "]\n",
    "\n",
    "dim_date = dim_date[date_order]\n",
    "dim_date.head()"
   ]
  },
  {
   "cell_type": "markdown",
   "id": "55f11ee5",
   "metadata": {},
   "source": [
    "Next, let us create the dim_product table."
   ]
  },
  {
   "cell_type": "code",
   "execution_count": 17,
   "id": "88e6a679",
   "metadata": {},
   "outputs": [
    {
     "name": "stdout",
     "output_type": "stream",
     "text": [
      "  StockCode                  Description\n",
      "0     10002  INFLATABLE POLITICAL GLOBE \n",
      "1     10080     GROOVY CACTUS INFLATABLE\n",
      "2     10120                 DOGGY RUBBER\n",
      "3    10123C        HEARTS WRAPPING TAPE \n",
      "4    10123G                 Unknown Item\n",
      "StockCode      0\n",
      "Description    0\n",
      "dtype: int64\n",
      "4070 unique StockCodes in dim_product\n"
     ]
    }
   ],
   "source": [
    "dim_product = df[['StockCode', 'Description']].drop_duplicates().reset_index(drop=True)\n",
    "dim_product = dim_product.sort_values('StockCode').reset_index(drop=True)\n",
    "\n",
    "print(dim_product.head())\n",
    "\n",
    "# Check for missing values in dim_product\n",
    "print(dim_product.isna().sum())\n",
    "\n",
    "print(len(dim_product['StockCode'].unique()), \"unique StockCodes in dim_product\")"
   ]
  },
  {
   "cell_type": "markdown",
   "id": "1b4dfa77",
   "metadata": {},
   "source": [
    "To ensure duplicated rows do not exist, we will standardize the StockCode values."
   ]
  },
  {
   "cell_type": "code",
   "execution_count": 18,
   "id": "9f40bd4c",
   "metadata": {},
   "outputs": [
    {
     "name": "stdout",
     "output_type": "stream",
     "text": [
      "3959 unique StockCodes in dim_product\n"
     ]
    }
   ],
   "source": [
    "dim_product['StockCode'] = dim_product['StockCode'].str.strip().str.upper().drop_duplicates().reset_index(drop=True)\n",
    "\n",
    "print(len(dim_product['StockCode'].unique()), \"unique StockCodes in dim_product\")"
   ]
  },
  {
   "cell_type": "markdown",
   "id": "c6ad9f27",
   "metadata": {},
   "source": [
    "Also, we will remove any null values within the dim_product dataframe."
   ]
  },
  {
   "cell_type": "code",
   "execution_count": 43,
   "id": "561d10df",
   "metadata": {},
   "outputs": [
    {
     "name": "stdout",
     "output_type": "stream",
     "text": [
      "3958 unique StockCodes in dim_product\n"
     ]
    }
   ],
   "source": [
    "dim_product = dim_product.dropna(subset=['StockCode'])\n",
    "\n",
    "print(len(dim_product['StockCode'].unique()), \"unique StockCodes in dim_product\")"
   ]
  },
  {
   "cell_type": "markdown",
   "id": "b0980dfd",
   "metadata": {},
   "source": [
    "Next, we will create the dim_customer table."
   ]
  },
  {
   "cell_type": "code",
   "execution_count": 19,
   "id": "8087b444",
   "metadata": {},
   "outputs": [
    {
     "name": "stdout",
     "output_type": "stream",
     "text": [
      "   CustomerID         Country\n",
      "0     12346.0  United Kingdom\n",
      "1     12347.0         Iceland\n",
      "2     12348.0         Finland\n",
      "3     12349.0           Italy\n",
      "4     12350.0          Norway\n",
      "CustomerID    9\n",
      "Country       0\n",
      "dtype: int64\n"
     ]
    }
   ],
   "source": [
    "dim_customer = df[['CustomerID', 'Country']].drop_duplicates().reset_index(drop=True)\n",
    "dim_customer = dim_customer.sort_values('CustomerID').reset_index(drop=True)\n",
    "\n",
    "print(dim_customer.head())\n",
    "\n",
    "# Check for missing values in dim_customer\n",
    "print(dim_customer.isna().sum())"
   ]
  },
  {
   "cell_type": "markdown",
   "id": "fa7bd79a",
   "metadata": {},
   "source": [
    "The dim_customer dataframe still has missing values, we have to drop this for a seamless connection."
   ]
  },
  {
   "cell_type": "code",
   "execution_count": 31,
   "id": "faa2ff15",
   "metadata": {},
   "outputs": [
    {
     "name": "stdout",
     "output_type": "stream",
     "text": [
      "CustomerID    0\n",
      "Country       0\n",
      "dtype: int64\n",
      "4372 unique CustomerIDs in dim_customer\n"
     ]
    }
   ],
   "source": [
    "dim_customer = dim_customer.dropna(subset=['CustomerID'])\n",
    "print(dim_customer.isna().sum())\n",
    "\n",
    "print(len(dim_customer['CustomerID'].unique()), \"unique CustomerIDs in dim_customer\")"
   ]
  },
  {
   "cell_type": "markdown",
   "id": "9f65689a",
   "metadata": {},
   "source": [
    "Also, we will attempt to remove duplicated rows for a seamless connection."
   ]
  },
  {
   "cell_type": "code",
   "execution_count": 32,
   "id": "f1ee55b9",
   "metadata": {},
   "outputs": [
    {
     "name": "stdout",
     "output_type": "stream",
     "text": [
      "4372 unique CustomerIDs in dim_customer\n"
     ]
    }
   ],
   "source": [
    "dim_customer['CustomerID'] = dim_customer['CustomerID'].drop_duplicates().reset_index(drop=True)\n",
    "\n",
    "print(len(dim_customer['CustomerID'].unique()), \"unique CustomerIDs in dim_customer\")"
   ]
  },
  {
   "cell_type": "markdown",
   "id": "5c2ca885",
   "metadata": {},
   "source": [
    "Finally, we will create the fact_sales table."
   ]
  },
  {
   "cell_type": "code",
   "execution_count": 34,
   "id": "3cce85d5",
   "metadata": {},
   "outputs": [
    {
     "data": {
      "text/html": [
       "<div>\n",
       "<style scoped>\n",
       "    .dataframe tbody tr th:only-of-type {\n",
       "        vertical-align: middle;\n",
       "    }\n",
       "\n",
       "    .dataframe tbody tr th {\n",
       "        vertical-align: top;\n",
       "    }\n",
       "\n",
       "    .dataframe thead th {\n",
       "        text-align: right;\n",
       "    }\n",
       "</style>\n",
       "<table border=\"1\" class=\"dataframe\">\n",
       "  <thead>\n",
       "    <tr style=\"text-align: right;\">\n",
       "      <th></th>\n",
       "      <th>SaleID</th>\n",
       "      <th>InvoiceNo</th>\n",
       "      <th>Quantity</th>\n",
       "      <th>UnitPrice</th>\n",
       "      <th>TotalPrice</th>\n",
       "      <th>IsCanceled</th>\n",
       "      <th>IsMetadata</th>\n",
       "      <th>Date</th>\n",
       "      <th>Timestamp</th>\n",
       "      <th>TransactionType</th>\n",
       "      <th>StockCode</th>\n",
       "      <th>CustomerID</th>\n",
       "      <th>DateID</th>\n",
       "    </tr>\n",
       "  </thead>\n",
       "  <tbody>\n",
       "    <tr>\n",
       "      <th>0</th>\n",
       "      <td>1</td>\n",
       "      <td>536365</td>\n",
       "      <td>6</td>\n",
       "      <td>2.55</td>\n",
       "      <td>15.30</td>\n",
       "      <td>False</td>\n",
       "      <td>False</td>\n",
       "      <td>2010-12-01</td>\n",
       "      <td>08:26:00</td>\n",
       "      <td>Sale</td>\n",
       "      <td>85123A</td>\n",
       "      <td>17850.0</td>\n",
       "      <td>20101201.0</td>\n",
       "    </tr>\n",
       "    <tr>\n",
       "      <th>1</th>\n",
       "      <td>2</td>\n",
       "      <td>536365</td>\n",
       "      <td>6</td>\n",
       "      <td>3.39</td>\n",
       "      <td>20.34</td>\n",
       "      <td>False</td>\n",
       "      <td>False</td>\n",
       "      <td>2010-12-01</td>\n",
       "      <td>08:26:00</td>\n",
       "      <td>Sale</td>\n",
       "      <td>71053</td>\n",
       "      <td>17850.0</td>\n",
       "      <td>20101201.0</td>\n",
       "    </tr>\n",
       "    <tr>\n",
       "      <th>2</th>\n",
       "      <td>3</td>\n",
       "      <td>536365</td>\n",
       "      <td>8</td>\n",
       "      <td>2.75</td>\n",
       "      <td>22.00</td>\n",
       "      <td>False</td>\n",
       "      <td>False</td>\n",
       "      <td>2010-12-01</td>\n",
       "      <td>08:26:00</td>\n",
       "      <td>Sale</td>\n",
       "      <td>84406B</td>\n",
       "      <td>17850.0</td>\n",
       "      <td>20101201.0</td>\n",
       "    </tr>\n",
       "    <tr>\n",
       "      <th>3</th>\n",
       "      <td>4</td>\n",
       "      <td>536365</td>\n",
       "      <td>6</td>\n",
       "      <td>3.39</td>\n",
       "      <td>20.34</td>\n",
       "      <td>False</td>\n",
       "      <td>False</td>\n",
       "      <td>2010-12-01</td>\n",
       "      <td>08:26:00</td>\n",
       "      <td>Sale</td>\n",
       "      <td>84029G</td>\n",
       "      <td>17850.0</td>\n",
       "      <td>20101201.0</td>\n",
       "    </tr>\n",
       "    <tr>\n",
       "      <th>4</th>\n",
       "      <td>5</td>\n",
       "      <td>536365</td>\n",
       "      <td>6</td>\n",
       "      <td>3.39</td>\n",
       "      <td>20.34</td>\n",
       "      <td>False</td>\n",
       "      <td>False</td>\n",
       "      <td>2010-12-01</td>\n",
       "      <td>08:26:00</td>\n",
       "      <td>Sale</td>\n",
       "      <td>84029E</td>\n",
       "      <td>17850.0</td>\n",
       "      <td>20101201.0</td>\n",
       "    </tr>\n",
       "    <tr>\n",
       "      <th>...</th>\n",
       "      <td>...</td>\n",
       "      <td>...</td>\n",
       "      <td>...</td>\n",
       "      <td>...</td>\n",
       "      <td>...</td>\n",
       "      <td>...</td>\n",
       "      <td>...</td>\n",
       "      <td>...</td>\n",
       "      <td>...</td>\n",
       "      <td>...</td>\n",
       "      <td>...</td>\n",
       "      <td>...</td>\n",
       "      <td>...</td>\n",
       "    </tr>\n",
       "    <tr>\n",
       "      <th>10202</th>\n",
       "      <td>9996</td>\n",
       "      <td>537233</td>\n",
       "      <td>12</td>\n",
       "      <td>2.95</td>\n",
       "      <td>35.40</td>\n",
       "      <td>False</td>\n",
       "      <td>False</td>\n",
       "      <td>2010-12-06</td>\n",
       "      <td>09:37:00</td>\n",
       "      <td>Sale</td>\n",
       "      <td>21844</td>\n",
       "      <td>17428.0</td>\n",
       "      <td>20101206.0</td>\n",
       "    </tr>\n",
       "    <tr>\n",
       "      <th>10203</th>\n",
       "      <td>9997</td>\n",
       "      <td>537233</td>\n",
       "      <td>24</td>\n",
       "      <td>1.95</td>\n",
       "      <td>46.80</td>\n",
       "      <td>False</td>\n",
       "      <td>False</td>\n",
       "      <td>2010-12-06</td>\n",
       "      <td>09:37:00</td>\n",
       "      <td>Sale</td>\n",
       "      <td>22812</td>\n",
       "      <td>17428.0</td>\n",
       "      <td>20101206.0</td>\n",
       "    </tr>\n",
       "    <tr>\n",
       "      <th>10204</th>\n",
       "      <td>9998</td>\n",
       "      <td>C537234</td>\n",
       "      <td>-20</td>\n",
       "      <td>1.95</td>\n",
       "      <td>-39.00</td>\n",
       "      <td>True</td>\n",
       "      <td>False</td>\n",
       "      <td>2010-12-06</td>\n",
       "      <td>09:40:00</td>\n",
       "      <td>Canceled</td>\n",
       "      <td>22653</td>\n",
       "      <td>16161.0</td>\n",
       "      <td>20101206.0</td>\n",
       "    </tr>\n",
       "    <tr>\n",
       "      <th>10205</th>\n",
       "      <td>9999</td>\n",
       "      <td>537235</td>\n",
       "      <td>156</td>\n",
       "      <td>8.50</td>\n",
       "      <td>1326.00</td>\n",
       "      <td>False</td>\n",
       "      <td>False</td>\n",
       "      <td>2010-12-06</td>\n",
       "      <td>09:45:00</td>\n",
       "      <td>Sale</td>\n",
       "      <td>22622</td>\n",
       "      <td>17381.0</td>\n",
       "      <td>20101206.0</td>\n",
       "    </tr>\n",
       "    <tr>\n",
       "      <th>10206</th>\n",
       "      <td>10000</td>\n",
       "      <td>537235</td>\n",
       "      <td>480</td>\n",
       "      <td>0.36</td>\n",
       "      <td>172.80</td>\n",
       "      <td>False</td>\n",
       "      <td>False</td>\n",
       "      <td>2010-12-06</td>\n",
       "      <td>09:45:00</td>\n",
       "      <td>Sale</td>\n",
       "      <td>22536</td>\n",
       "      <td>17381.0</td>\n",
       "      <td>20101206.0</td>\n",
       "    </tr>\n",
       "  </tbody>\n",
       "</table>\n",
       "<p>10000 rows × 13 columns</p>\n",
       "</div>"
      ],
      "text/plain": [
       "       SaleID InvoiceNo  Quantity  UnitPrice  TotalPrice  IsCanceled  \\\n",
       "0           1    536365         6       2.55       15.30       False   \n",
       "1           2    536365         6       3.39       20.34       False   \n",
       "2           3    536365         8       2.75       22.00       False   \n",
       "3           4    536365         6       3.39       20.34       False   \n",
       "4           5    536365         6       3.39       20.34       False   \n",
       "...       ...       ...       ...        ...         ...         ...   \n",
       "10202    9996    537233        12       2.95       35.40       False   \n",
       "10203    9997    537233        24       1.95       46.80       False   \n",
       "10204    9998   C537234       -20       1.95      -39.00        True   \n",
       "10205    9999    537235       156       8.50     1326.00       False   \n",
       "10206   10000    537235       480       0.36      172.80       False   \n",
       "\n",
       "       IsMetadata        Date Timestamp TransactionType StockCode  CustomerID  \\\n",
       "0           False  2010-12-01  08:26:00            Sale    85123A     17850.0   \n",
       "1           False  2010-12-01  08:26:00            Sale     71053     17850.0   \n",
       "2           False  2010-12-01  08:26:00            Sale    84406B     17850.0   \n",
       "3           False  2010-12-01  08:26:00            Sale    84029G     17850.0   \n",
       "4           False  2010-12-01  08:26:00            Sale    84029E     17850.0   \n",
       "...           ...         ...       ...             ...       ...         ...   \n",
       "10202       False  2010-12-06  09:37:00            Sale     21844     17428.0   \n",
       "10203       False  2010-12-06  09:37:00            Sale     22812     17428.0   \n",
       "10204       False  2010-12-06  09:40:00        Canceled     22653     16161.0   \n",
       "10205       False  2010-12-06  09:45:00            Sale     22622     17381.0   \n",
       "10206       False  2010-12-06  09:45:00            Sale     22536     17381.0   \n",
       "\n",
       "           DateID  \n",
       "0      20101201.0  \n",
       "1      20101201.0  \n",
       "2      20101201.0  \n",
       "3      20101201.0  \n",
       "4      20101201.0  \n",
       "...           ...  \n",
       "10202  20101206.0  \n",
       "10203  20101206.0  \n",
       "10204  20101206.0  \n",
       "10205  20101206.0  \n",
       "10206  20101206.0  \n",
       "\n",
       "[10000 rows x 13 columns]"
      ]
     },
     "execution_count": 34,
     "metadata": {},
     "output_type": "execute_result"
    }
   ],
   "source": [
    "fact_sales = df[\n",
    "    ['SaleID', 'InvoiceNo', 'Quantity', 'UnitPrice', 'TotalPrice',\n",
    "     'IsCanceled', 'IsMetadata', 'Date', 'Timestamp', 'TransactionType',\n",
    "     'StockCode', 'CustomerID']].copy()\n",
    "\n",
    "fact_sales['Date'] = pd.to_datetime(fact_sales['Date']).dt.date\n",
    "fact_sales['DateID'] = fact_sales['Date'].apply(lambda x: int(x.strftime('%Y%m%d'))).reset_index(drop=True)\n",
    "\n",
    "\n",
    "fact_sales.head(10000)"
   ]
  },
  {
   "cell_type": "markdown",
   "id": "69353224",
   "metadata": {},
   "source": [
    "## 3. Exporting the data\n",
    "\n",
    "Let us start by checking the column headers for each dataframe."
   ]
  },
  {
   "cell_type": "code",
   "execution_count": 23,
   "id": "a579daf6",
   "metadata": {},
   "outputs": [
    {
     "name": "stdout",
     "output_type": "stream",
     "text": [
      "Index(['DateID', 'Year', 'Month', 'Day', 'Weekday'], dtype='object')\n",
      "Index(['StockCode', 'Description'], dtype='object')\n",
      "Index(['CustomerID', 'Country'], dtype='object')\n",
      "Index(['SaleID', 'InvoiceNo', 'Quantity', 'UnitPrice', 'TotalPrice',\n",
      "       'IsCanceled', 'IsMetadata', 'Date', 'Timestamp', 'TransactionType',\n",
      "       'StockCode', 'CustomerID', 'DateID'],\n",
      "      dtype='object')\n"
     ]
    }
   ],
   "source": [
    "print(dim_date.columns)\n",
    "print(dim_product.columns)\n",
    "print(dim_customer.columns)\n",
    "print(fact_sales.columns)"
   ]
  },
  {
   "cell_type": "markdown",
   "id": "2cbb1bcd",
   "metadata": {},
   "source": [
    "Next, we will export each dataframe as `.csv` files."
   ]
  },
  {
   "cell_type": "code",
   "execution_count": 44,
   "id": "11f6033d",
   "metadata": {},
   "outputs": [],
   "source": [
    "dim_date.to_csv('../data/cleaned/dim_date.csv', index=False)\n",
    "dim_product.to_csv('../data/cleaned/dim_product.csv', index=False)\n",
    "dim_customer.to_csv('../data/cleaned/dim_customer.csv', index=False)\n",
    "fact_sales.to_csv('../data/cleaned/fact_sales.csv', index=False)\n"
   ]
  }
 ],
 "metadata": {
  "kernelspec": {
   "display_name": ".venv",
   "language": "python",
   "name": "python3"
  },
  "language_info": {
   "codemirror_mode": {
    "name": "ipython",
    "version": 3
   },
   "file_extension": ".py",
   "mimetype": "text/x-python",
   "name": "python",
   "nbconvert_exporter": "python",
   "pygments_lexer": "ipython3",
   "version": "3.13.5"
  }
 },
 "nbformat": 4,
 "nbformat_minor": 5
}
